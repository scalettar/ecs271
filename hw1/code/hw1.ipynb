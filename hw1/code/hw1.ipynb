{
 "cells": [
  {
   "cell_type": "code",
   "execution_count": 1,
   "id": "1e1c3704-8413-4f0e-9c35-bed91e289d1b",
   "metadata": {},
   "outputs": [],
   "source": [
    "import numpy as np\n",
    "from scipy.io import loadmat\n",
    "import matplotlib.pyplot as plt\n",
    "from typing import List, Tuple "
   ]
  },
  {
   "cell_type": "code",
   "execution_count": 2,
   "id": "d01ca623-fa6e-44b1-b34c-a5573a86fca3",
   "metadata": {},
   "outputs": [],
   "source": [
    "def load_and_shuffle_data():\n",
    "    #Loading the data\n",
    "    M = loadmat('MNIST_digit_data.mat')\n",
    "    images_train,images_test,labels_train,labels_test= M['images_train'],M['images_test'],M['labels_train'],M['labels_test']\n",
    "    \n",
    "    #just to make all random sequences on all computers the same.\n",
    "    np.random.seed(531)\n",
    "    \n",
    "    #randomly permute data points\n",
    "    inds = np.random.permutation(images_train.shape[0])\n",
    "    images_train = images_train[inds]\n",
    "    labels_train = labels_train[inds]\n",
    "    \n",
    "    inds = np.random.permutation(images_test.shape[0])\n",
    "    images_test = images_test[inds]\n",
    "    labels_test = labels_test[inds]\n",
    "\n",
    "    return images_train, labels_train, images_test, labels_test\n",
    "\n",
    "def show_image(i: int):\n",
    "    im = images_train[i,:].reshape((28,28),order='F')\n",
    "    plt.imshow(im)\n",
    "    plt.title('Class Label:'+str(labels_train[i][0]))\n",
    "    plt.show()"
   ]
  },
  {
   "cell_type": "code",
   "execution_count": 9,
   "id": "0d93a1c4-8cf9-4a4a-9542-e320bb200885",
   "metadata": {},
   "outputs": [],
   "source": [
    "def kNN(images_train: np.ndarray, labels_train: np.ndarray, images_test: np.ndarray, labels_test: np.ndarray, k: int) -> Tuple[List, float]:\n",
    "    # setup\n",
    "    correct_label_counts = [0] * 10 \n",
    "    test_label_counts = [0] * 10\n",
    "    # iterate over all test images\n",
    "    for i, test_image in enumerate(images_test):\n",
    "        # find distances from test_image to all training images\n",
    "        differences = images_train - test_image\n",
    "        squared_distances = np.sum(differences**2, axis=1)\n",
    "        # find labels of k-nearest training images\n",
    "        k_nearest_indices = np.argsort(squared_distances)[:k]\n",
    "        k_nearest_labels = labels_train[:,0][k_nearest_indices]\n",
    "        # calculate majority label from k-nearest training images\n",
    "        predicted_label = np.argmax(np.bincount(k_nearest_labels))\n",
    "        # check predicted label against test label\n",
    "        correct_label = labels_test[i,0]\n",
    "        correct_label_counts[correct_label] += (predicted_label == correct_label)\n",
    "        test_label_counts[correct_label] += 1\n",
    "    # calculate accuracy\n",
    "    avg_acc = np.sum(correct_label_counts) / len(images_test) \n",
    "    acc = [correct_label_counts[i] / test_label_counts[i] if test_label_counts[i] > 0 else 0.0 for i in range(10)]\n",
    "    # return accuracy \n",
    "    return [acc, avg_acc]"
   ]
  },
  {
   "cell_type": "code",
   "execution_count": 14,
   "id": "3e86e4dd-e849-4e53-821e-214c9895e2e3",
   "metadata": {},
   "outputs": [],
   "source": [
    "images_train, labels_train, images_test, labels_test = load_and_shuffle_data()\n",
    "\n",
    "images_test_1000 = images_test[:1000]\n",
    "labels_test_1000 = labels_test[:1000]\n",
    "\n",
    "images_train_10000 = images_train[0:10000,:]\n",
    "labels_train_10000 = labels_train[0:10000,:]\n",
    "\n",
    "oneNN_acc = kNN(images_train_10000, labels_train_10000, images_test_1000, labels_test_1000, 1)"
   ]
  },
  {
   "cell_type": "code",
   "execution_count": 13,
   "id": "3be109eb-c846-431e-9eb0-5bc00018bfec",
   "metadata": {},
   "outputs": [
    {
     "data": {
      "text/plain": [
       "[[np.float64(0.8488372093023255),\n",
       "  np.float64(0.9029126213592233),\n",
       "  np.float64(0.29310344827586204),\n",
       "  np.float64(0.40336134453781514),\n",
       "  np.float64(0.5315315315315315),\n",
       "  np.float64(0.3793103448275862),\n",
       "  np.float64(0.8478260869565217),\n",
       "  np.float64(0.7894736842105263),\n",
       "  np.float64(0.3372093023255814),\n",
       "  np.float64(0.7093023255813954)],\n",
       " np.float64(0.598)]"
      ]
     },
     "execution_count": 13,
     "metadata": {},
     "output_type": "execute_result"
    }
   ],
   "source": [
    "oneNN_acc\n",
    "\n"
   ]
  },
  {
   "cell_type": "code",
   "execution_count": 15,
   "id": "00bc0d12-578a-451a-b51a-b8ae6b376c1f",
   "metadata": {},
   "outputs": [
    {
     "data": {
      "text/plain": [
       "[[np.float64(0.9883720930232558),\n",
       "  np.float64(1.0),\n",
       "  np.float64(0.9224137931034483),\n",
       "  np.float64(0.9327731092436975),\n",
       "  np.float64(0.9099099099099099),\n",
       "  np.float64(0.9770114942528736),\n",
       "  np.float64(0.9782608695652174),\n",
       "  np.float64(0.9473684210526315),\n",
       "  np.float64(0.8604651162790697),\n",
       "  np.float64(0.9534883720930233)],\n",
       " np.float64(0.946)]"
      ]
     },
     "execution_count": 15,
     "metadata": {},
     "output_type": "execute_result"
    }
   ],
   "source": [
    "oneNN_acc"
   ]
  },
  {
   "cell_type": "code",
   "execution_count": null,
   "id": "7207c061-6336-4cef-840f-2d3abb283846",
   "metadata": {},
   "outputs": [],
   "source": []
  }
 ],
 "metadata": {
  "kernelspec": {
   "display_name": "Python 3 (ipykernel)",
   "language": "python",
   "name": "python3"
  },
  "language_info": {
   "codemirror_mode": {
    "name": "ipython",
    "version": 3
   },
   "file_extension": ".py",
   "mimetype": "text/x-python",
   "name": "python",
   "nbconvert_exporter": "python",
   "pygments_lexer": "ipython3",
   "version": "3.12.11"
  }
 },
 "nbformat": 4,
 "nbformat_minor": 5
}
